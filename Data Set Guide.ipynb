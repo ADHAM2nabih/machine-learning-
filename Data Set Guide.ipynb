{
 "cells": [
  {
   "cell_type": "markdown",
   "id": "96fa34da",
   "metadata": {},
   "source": [
    "# Data Set: IncomeEvaluation"
   ]
  },
  {
   "cell_type": "markdown",
   "id": "5e1309f4",
   "metadata": {},
   "source": [
    "## Overview"
   ]
  },
  {
   "cell_type": "markdown",
   "id": "1bec7a10",
   "metadata": {},
   "source": [
    "### 1. `age`\n",
    "**Type**: Continuous  \n",
    "**Description**: Represents the age of an individual in years. This is a numerical variable and is used for analyzing the distribution of ages in the population.  "
   ]
  },
  {
   "cell_type": "markdown",
   "id": "72ddd030",
   "metadata": {},
   "source": [
    "### 2. `workclass`\n",
    "**Type**: Categorical  \n",
    "**Description**: Represents the type of employment of the individual. The categories include:\n",
    "- Private\n",
    "- Self-emp-not-inc\n",
    "- Self-emp-inc\n",
    "- Federal-gov\n",
    "- Local-gov\n",
    "- State-gov\n",
    "- Without-pay\n",
    "- Never-worked  \n",
    "This variable can be used to analyze the distribution of workers in different employment sectors."
   ]
  },
  {
   "cell_type": "markdown",
   "id": "79f34e8a",
   "metadata": {},
   "source": [
    "### 3. `fnlwgt` (Final Weight)\n",
    "**Type**: Continuous  \n",
    "**Description**: Represents the final weight assigned to each individual in the dataset. This is used to adjust the data for overrepresentation or underrepresentation of certain groups. The `fnlwgt` value indicates how many people the individual represents in the overall population.  \n",
    "#### Example:\n",
    "- A person with a **fnlwgt** of 2000 represents 2000 people in the general population.\n",
    "- A person with a **fnlwgt** of 500 represents 500 people in the population.  \n",
    "It helps to ensure the dataset is representative of the entire population."
   ]
  },
  {
   "cell_type": "markdown",
   "id": "0aab6c7b",
   "metadata": {},
   "source": [
    "### 4. `education`\n",
    "**Type**: Categorical  \n",
    "**Description**: Represents the highest level of education attained by the individual. The categories include:\n",
    "- Bachelors\n",
    "- Some-college\n",
    "- 11th\n",
    "- HS-grad\n",
    "- Prof-school\n",
    "- Assoc-acdm\n",
    "- Assoc-voc\n",
    "- 9th\n",
    "- 7th-8th\n",
    "- 12th\n",
    "- Masters\n",
    "- 1st-4th\n",
    "- 10th\n",
    "- Doctorate\n",
    "- 5th-6th\n",
    "- Preschool  \n",
    "This feature is essential for understanding the educational background of the population."
   ]
  },
  {
   "cell_type": "markdown",
   "id": "ee925582",
   "metadata": {},
   "source": [
    "### 5. `education-num`\n",
    "**Type**: Continuous  \n",
    "**Description**: Represents the number of years of education the individual has completed. This is a numerical variable where higher values correspond to higher levels of education (e.g., Doctorate = 16 years, Bachelors = 13 years).  "
   ]
  },
  {
   "cell_type": "markdown",
   "id": "b6f3aa1b",
   "metadata": {},
   "source": [
    "### 6. `marital-status`\n",
    "**Type**: Categorical  \n",
    "**Description**: Represents the marital status of the individual. The categories include:\n",
    "- Married-civ-spouse\n",
    "- Divorced\n",
    "- Never-married\n",
    "- Separated\n",
    "- Widowed\n",
    "- Married-spouse-absent\n",
    "- Married-AF-spouse  \n",
    "This variable can help analyze the relationship between marital status and other factors like income."
   ]
  },
  {
   "cell_type": "markdown",
   "id": "e6f110c3",
   "metadata": {},
   "source": [
    "### 7. `occupation`\n",
    "**Type**: Categorical  \n",
    "**Description**: Represents the type of occupation the individual works in.\n",
    "- This variable is important for analyzing occupation distribution and its impact on income."
   ]
  },
  {
   "cell_type": "markdown",
   "id": "5286ab02",
   "metadata": {},
   "source": [
    "### 8. `relationship`\n",
    "**Type**: Categorical  \n",
    "**Description**: Represents the relationship of the individual within their family. The categories include:\n",
    "- Wife\n",
    "- Own-child\n",
    "- Husband\n",
    "- Not-in-family\n",
    "- Other-relative\n",
    "- Unmarried  \n",
    "This can help in understanding family dynamics and relationships within the data."
   ]
  },
  {
   "cell_type": "markdown",
   "id": "21e2a3b7",
   "metadata": {},
   "source": [
    "### 9. `race`\n",
    "**Type**: Categorical  \n",
    "**Description**: Represents the individual's race. The categories include:\n",
    "- White\n",
    "- Asian-Pac-Islander\n",
    "- Amer-Indian-Eskimo\n",
    "- Other\n",
    "- Black  \n",
    "This feature can be useful for analyzing racial distributions within the dataset."
   ]
  },
  {
   "cell_type": "markdown",
   "id": "b12e366e",
   "metadata": {},
   "source": [
    "### 10. `sex`\n",
    "**Type**: Categorical  \n",
    "**Description**: Represents the gender of the individual. The categories include:\n",
    "- Female\n",
    "- Male  \n",
    "This is a key variable for gender-based analysis, especially in relation to income inequality."
   ]
  },
  {
   "cell_type": "markdown",
   "id": "809c7fc6",
   "metadata": {},
   "source": [
    "### 11. `capital-gain`\n",
    "**Type**: Continuous  \n",
    "**Description**: Represents the capital gain of the individual. This value is used to reflect any profit from investments, stocks, or property sales. A higher value suggests greater financial gain.  "
   ]
  },
  {
   "cell_type": "markdown",
   "id": "22c77f0b",
   "metadata": {},
   "source": [
    "### 12. `capital-loss`\n",
    "**Type**: Continuous  \n",
    "**Description**: Represents the capital loss of the individual. It reflects any loss from investments or property sales. A higher value indicates greater financial loss."
   ]
  },
  {
   "cell_type": "markdown",
   "id": "6858624e",
   "metadata": {},
   "source": [
    "### 13. `hours-per-week`\n",
    "**Type**: Continuous  \n",
    "**Description**: Represents the number of hours the individual works per week. This is a continuous variable used to assess work-life balance and income potential."
   ]
  },
  {
   "cell_type": "markdown",
   "id": "3052b110",
   "metadata": {},
   "source": [
    "### 14. `native-country`\n",
    "**Type**: Categorical  \n",
    "**Description**: Represents the country of origin of the individual.\n",
    "This feature is useful for understanding the diversity in the dataset, particularly regarding immigration and its impact on income."
   ]
  },
  {
   "cell_type": "markdown",
   "id": "0c84bafa",
   "metadata": {},
   "source": [
    "### 15. `income` (Target/Label)\n",
    "**Type**: Categorical  \n",
    "**Description**: Represents the income class of the individual. The categories include:\n",
    "* (<=50K)\n",
    "* (>50K)\n",
    "- This is the target variable in the dataset for classification, indicating whether the individual earns less than or more than 50K annually."
   ]
  },
  {
   "cell_type": "code",
   "execution_count": null,
   "id": "c4894b61",
   "metadata": {},
   "outputs": [],
   "source": []
  }
 ],
 "metadata": {
  "kernelspec": {
   "display_name": "Python 3 (ipykernel)",
   "language": "python",
   "name": "python3"
  },
  "language_info": {
   "codemirror_mode": {
    "name": "ipython",
    "version": 3
   },
   "file_extension": ".py",
   "mimetype": "text/x-python",
   "name": "python",
   "nbconvert_exporter": "python",
   "pygments_lexer": "ipython3",
   "version": "3.9.12"
  }
 },
 "nbformat": 4,
 "nbformat_minor": 5
}
